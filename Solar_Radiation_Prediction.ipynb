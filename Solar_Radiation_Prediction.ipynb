{
  "nbformat": 4,
  "nbformat_minor": 0,
  "metadata": {
    "colab": {
      "provenance": [],
      "authorship_tag": "ABX9TyPjE4+MtX4PFCZUmuMatvDx",
      "include_colab_link": true
    },
    "kernelspec": {
      "name": "python3",
      "display_name": "Python 3"
    },
    "language_info": {
      "name": "python"
    }
  },
  "cells": [
    {
      "cell_type": "markdown",
      "metadata": {
        "id": "view-in-github",
        "colab_type": "text"
      },
      "source": [
        "<a href=\"https://colab.research.google.com/github/matheustoneti/SolarRadiationPrediction-NASAHackathon/blob/main/Solar_Radiation_Prediction.ipynb\" target=\"_parent\"><img src=\"https://colab.research.google.com/assets/colab-badge.svg\" alt=\"Open In Colab\"/></a>"
      ]
    },
    {
      "cell_type": "code",
      "source": [
        "import pandas as pd\n",
        "import numpy as np\n",
        "import matplotlib.pyplot as plt\n",
        "import seaborn as sns\n",
        "from sklearn.model_selection import train_test_split\n",
        "from sklearn.tree import DecisionTreeRegressor"
      ],
      "metadata": {
        "id": "QHxRuxGjb4Af"
      },
      "execution_count": 44,
      "outputs": []
    },
    {
      "cell_type": "code",
      "execution_count": 1,
      "metadata": {
        "colab": {
          "base_uri": "https://localhost:8080/"
        },
        "id": "M2En6jzbZiyT",
        "outputId": "a98aacfe-614b-4b01-f0ba-0319bc938546"
      },
      "outputs": [
        {
          "output_type": "stream",
          "name": "stdout",
          "text": [
            "Mounted at /content/gdrive\n"
          ]
        }
      ],
      "source": [
        "from google.colab import drive\n",
        "drive.mount('/content/gdrive')"
      ]
    },
    {
      "cell_type": "code",
      "source": [
        "df = pd.read_csv('/content/gdrive/MyDrive/SolarPrediction.csv')"
      ],
      "metadata": {
        "id": "mv98vxXObvCw"
      },
      "execution_count": 4,
      "outputs": []
    },
    {
      "cell_type": "code",
      "source": [
        "df.head(10)"
      ],
      "metadata": {
        "colab": {
          "base_uri": "https://localhost:8080/",
          "height": 774
        },
        "id": "DmMV9qGkb2hJ",
        "outputId": "198cebcd-8837-4289-efcd-9cf9cbbb9e7c"
      },
      "execution_count": 5,
      "outputs": [
        {
          "output_type": "execute_result",
          "data": {
            "text/plain": [
              "     UNIXTime                   Data      Time  Radiation  Temperature  \\\n",
              "0  1475229326  9/29/2016 12:00:00 AM  23:55:26       1.21           48   \n",
              "1  1475229023  9/29/2016 12:00:00 AM  23:50:23       1.21           48   \n",
              "2  1475228726  9/29/2016 12:00:00 AM  23:45:26       1.23           48   \n",
              "3  1475228421  9/29/2016 12:00:00 AM  23:40:21       1.21           48   \n",
              "4  1475228124  9/29/2016 12:00:00 AM  23:35:24       1.17           48   \n",
              "5  1475227824  9/29/2016 12:00:00 AM  23:30:24       1.21           48   \n",
              "6  1475227519  9/29/2016 12:00:00 AM  23:25:19       1.20           49   \n",
              "7  1475227222  9/29/2016 12:00:00 AM  23:20:22       1.24           49   \n",
              "8  1475226922  9/29/2016 12:00:00 AM  23:15:22       1.23           49   \n",
              "9  1475226622  9/29/2016 12:00:00 AM  23:10:22       1.21           49   \n",
              "\n",
              "   Pressure  Humidity  WindDirection(Degrees)  Speed TimeSunRise TimeSunSet  \n",
              "0     30.46        59                  177.39   5.62    06:13:00   18:13:00  \n",
              "1     30.46        58                  176.78   3.37    06:13:00   18:13:00  \n",
              "2     30.46        57                  158.75   3.37    06:13:00   18:13:00  \n",
              "3     30.46        60                  137.71   3.37    06:13:00   18:13:00  \n",
              "4     30.46        62                  104.95   5.62    06:13:00   18:13:00  \n",
              "5     30.46        64                  120.20   5.62    06:13:00   18:13:00  \n",
              "6     30.46        72                  112.45   6.75    06:13:00   18:13:00  \n",
              "7     30.46        71                  122.97   5.62    06:13:00   18:13:00  \n",
              "8     30.46        80                  101.18   4.50    06:13:00   18:13:00  \n",
              "9     30.46        85                  141.87   4.50    06:13:00   18:13:00  "
            ],
            "text/html": [
              "\n",
              "  <div id=\"df-29e825a3-c147-4773-a8a0-0c3c56e8db1b\">\n",
              "    <div class=\"colab-df-container\">\n",
              "      <div>\n",
              "<style scoped>\n",
              "    .dataframe tbody tr th:only-of-type {\n",
              "        vertical-align: middle;\n",
              "    }\n",
              "\n",
              "    .dataframe tbody tr th {\n",
              "        vertical-align: top;\n",
              "    }\n",
              "\n",
              "    .dataframe thead th {\n",
              "        text-align: right;\n",
              "    }\n",
              "</style>\n",
              "<table border=\"1\" class=\"dataframe\">\n",
              "  <thead>\n",
              "    <tr style=\"text-align: right;\">\n",
              "      <th></th>\n",
              "      <th>UNIXTime</th>\n",
              "      <th>Data</th>\n",
              "      <th>Time</th>\n",
              "      <th>Radiation</th>\n",
              "      <th>Temperature</th>\n",
              "      <th>Pressure</th>\n",
              "      <th>Humidity</th>\n",
              "      <th>WindDirection(Degrees)</th>\n",
              "      <th>Speed</th>\n",
              "      <th>TimeSunRise</th>\n",
              "      <th>TimeSunSet</th>\n",
              "    </tr>\n",
              "  </thead>\n",
              "  <tbody>\n",
              "    <tr>\n",
              "      <th>0</th>\n",
              "      <td>1475229326</td>\n",
              "      <td>9/29/2016 12:00:00 AM</td>\n",
              "      <td>23:55:26</td>\n",
              "      <td>1.21</td>\n",
              "      <td>48</td>\n",
              "      <td>30.46</td>\n",
              "      <td>59</td>\n",
              "      <td>177.39</td>\n",
              "      <td>5.62</td>\n",
              "      <td>06:13:00</td>\n",
              "      <td>18:13:00</td>\n",
              "    </tr>\n",
              "    <tr>\n",
              "      <th>1</th>\n",
              "      <td>1475229023</td>\n",
              "      <td>9/29/2016 12:00:00 AM</td>\n",
              "      <td>23:50:23</td>\n",
              "      <td>1.21</td>\n",
              "      <td>48</td>\n",
              "      <td>30.46</td>\n",
              "      <td>58</td>\n",
              "      <td>176.78</td>\n",
              "      <td>3.37</td>\n",
              "      <td>06:13:00</td>\n",
              "      <td>18:13:00</td>\n",
              "    </tr>\n",
              "    <tr>\n",
              "      <th>2</th>\n",
              "      <td>1475228726</td>\n",
              "      <td>9/29/2016 12:00:00 AM</td>\n",
              "      <td>23:45:26</td>\n",
              "      <td>1.23</td>\n",
              "      <td>48</td>\n",
              "      <td>30.46</td>\n",
              "      <td>57</td>\n",
              "      <td>158.75</td>\n",
              "      <td>3.37</td>\n",
              "      <td>06:13:00</td>\n",
              "      <td>18:13:00</td>\n",
              "    </tr>\n",
              "    <tr>\n",
              "      <th>3</th>\n",
              "      <td>1475228421</td>\n",
              "      <td>9/29/2016 12:00:00 AM</td>\n",
              "      <td>23:40:21</td>\n",
              "      <td>1.21</td>\n",
              "      <td>48</td>\n",
              "      <td>30.46</td>\n",
              "      <td>60</td>\n",
              "      <td>137.71</td>\n",
              "      <td>3.37</td>\n",
              "      <td>06:13:00</td>\n",
              "      <td>18:13:00</td>\n",
              "    </tr>\n",
              "    <tr>\n",
              "      <th>4</th>\n",
              "      <td>1475228124</td>\n",
              "      <td>9/29/2016 12:00:00 AM</td>\n",
              "      <td>23:35:24</td>\n",
              "      <td>1.17</td>\n",
              "      <td>48</td>\n",
              "      <td>30.46</td>\n",
              "      <td>62</td>\n",
              "      <td>104.95</td>\n",
              "      <td>5.62</td>\n",
              "      <td>06:13:00</td>\n",
              "      <td>18:13:00</td>\n",
              "    </tr>\n",
              "    <tr>\n",
              "      <th>5</th>\n",
              "      <td>1475227824</td>\n",
              "      <td>9/29/2016 12:00:00 AM</td>\n",
              "      <td>23:30:24</td>\n",
              "      <td>1.21</td>\n",
              "      <td>48</td>\n",
              "      <td>30.46</td>\n",
              "      <td>64</td>\n",
              "      <td>120.20</td>\n",
              "      <td>5.62</td>\n",
              "      <td>06:13:00</td>\n",
              "      <td>18:13:00</td>\n",
              "    </tr>\n",
              "    <tr>\n",
              "      <th>6</th>\n",
              "      <td>1475227519</td>\n",
              "      <td>9/29/2016 12:00:00 AM</td>\n",
              "      <td>23:25:19</td>\n",
              "      <td>1.20</td>\n",
              "      <td>49</td>\n",
              "      <td>30.46</td>\n",
              "      <td>72</td>\n",
              "      <td>112.45</td>\n",
              "      <td>6.75</td>\n",
              "      <td>06:13:00</td>\n",
              "      <td>18:13:00</td>\n",
              "    </tr>\n",
              "    <tr>\n",
              "      <th>7</th>\n",
              "      <td>1475227222</td>\n",
              "      <td>9/29/2016 12:00:00 AM</td>\n",
              "      <td>23:20:22</td>\n",
              "      <td>1.24</td>\n",
              "      <td>49</td>\n",
              "      <td>30.46</td>\n",
              "      <td>71</td>\n",
              "      <td>122.97</td>\n",
              "      <td>5.62</td>\n",
              "      <td>06:13:00</td>\n",
              "      <td>18:13:00</td>\n",
              "    </tr>\n",
              "    <tr>\n",
              "      <th>8</th>\n",
              "      <td>1475226922</td>\n",
              "      <td>9/29/2016 12:00:00 AM</td>\n",
              "      <td>23:15:22</td>\n",
              "      <td>1.23</td>\n",
              "      <td>49</td>\n",
              "      <td>30.46</td>\n",
              "      <td>80</td>\n",
              "      <td>101.18</td>\n",
              "      <td>4.50</td>\n",
              "      <td>06:13:00</td>\n",
              "      <td>18:13:00</td>\n",
              "    </tr>\n",
              "    <tr>\n",
              "      <th>9</th>\n",
              "      <td>1475226622</td>\n",
              "      <td>9/29/2016 12:00:00 AM</td>\n",
              "      <td>23:10:22</td>\n",
              "      <td>1.21</td>\n",
              "      <td>49</td>\n",
              "      <td>30.46</td>\n",
              "      <td>85</td>\n",
              "      <td>141.87</td>\n",
              "      <td>4.50</td>\n",
              "      <td>06:13:00</td>\n",
              "      <td>18:13:00</td>\n",
              "    </tr>\n",
              "  </tbody>\n",
              "</table>\n",
              "</div>\n",
              "      <button class=\"colab-df-convert\" onclick=\"convertToInteractive('df-29e825a3-c147-4773-a8a0-0c3c56e8db1b')\"\n",
              "              title=\"Convert this dataframe to an interactive table.\"\n",
              "              style=\"display:none;\">\n",
              "        \n",
              "  <svg xmlns=\"http://www.w3.org/2000/svg\" height=\"24px\"viewBox=\"0 0 24 24\"\n",
              "       width=\"24px\">\n",
              "    <path d=\"M0 0h24v24H0V0z\" fill=\"none\"/>\n",
              "    <path d=\"M18.56 5.44l.94 2.06.94-2.06 2.06-.94-2.06-.94-.94-2.06-.94 2.06-2.06.94zm-11 1L8.5 8.5l.94-2.06 2.06-.94-2.06-.94L8.5 2.5l-.94 2.06-2.06.94zm10 10l.94 2.06.94-2.06 2.06-.94-2.06-.94-.94-2.06-.94 2.06-2.06.94z\"/><path d=\"M17.41 7.96l-1.37-1.37c-.4-.4-.92-.59-1.43-.59-.52 0-1.04.2-1.43.59L10.3 9.45l-7.72 7.72c-.78.78-.78 2.05 0 2.83L4 21.41c.39.39.9.59 1.41.59.51 0 1.02-.2 1.41-.59l7.78-7.78 2.81-2.81c.8-.78.8-2.07 0-2.86zM5.41 20L4 18.59l7.72-7.72 1.47 1.35L5.41 20z\"/>\n",
              "  </svg>\n",
              "      </button>\n",
              "      \n",
              "  <style>\n",
              "    .colab-df-container {\n",
              "      display:flex;\n",
              "      flex-wrap:wrap;\n",
              "      gap: 12px;\n",
              "    }\n",
              "\n",
              "    .colab-df-convert {\n",
              "      background-color: #E8F0FE;\n",
              "      border: none;\n",
              "      border-radius: 50%;\n",
              "      cursor: pointer;\n",
              "      display: none;\n",
              "      fill: #1967D2;\n",
              "      height: 32px;\n",
              "      padding: 0 0 0 0;\n",
              "      width: 32px;\n",
              "    }\n",
              "\n",
              "    .colab-df-convert:hover {\n",
              "      background-color: #E2EBFA;\n",
              "      box-shadow: 0px 1px 2px rgba(60, 64, 67, 0.3), 0px 1px 3px 1px rgba(60, 64, 67, 0.15);\n",
              "      fill: #174EA6;\n",
              "    }\n",
              "\n",
              "    [theme=dark] .colab-df-convert {\n",
              "      background-color: #3B4455;\n",
              "      fill: #D2E3FC;\n",
              "    }\n",
              "\n",
              "    [theme=dark] .colab-df-convert:hover {\n",
              "      background-color: #434B5C;\n",
              "      box-shadow: 0px 1px 3px 1px rgba(0, 0, 0, 0.15);\n",
              "      filter: drop-shadow(0px 1px 2px rgba(0, 0, 0, 0.3));\n",
              "      fill: #FFFFFF;\n",
              "    }\n",
              "  </style>\n",
              "\n",
              "      <script>\n",
              "        const buttonEl =\n",
              "          document.querySelector('#df-29e825a3-c147-4773-a8a0-0c3c56e8db1b button.colab-df-convert');\n",
              "        buttonEl.style.display =\n",
              "          google.colab.kernel.accessAllowed ? 'block' : 'none';\n",
              "\n",
              "        async function convertToInteractive(key) {\n",
              "          const element = document.querySelector('#df-29e825a3-c147-4773-a8a0-0c3c56e8db1b');\n",
              "          const dataTable =\n",
              "            await google.colab.kernel.invokeFunction('convertToInteractive',\n",
              "                                                     [key], {});\n",
              "          if (!dataTable) return;\n",
              "\n",
              "          const docLinkHtml = 'Like what you see? Visit the ' +\n",
              "            '<a target=\"_blank\" href=https://colab.research.google.com/notebooks/data_table.ipynb>data table notebook</a>'\n",
              "            + ' to learn more about interactive tables.';\n",
              "          element.innerHTML = '';\n",
              "          dataTable['output_type'] = 'display_data';\n",
              "          await google.colab.output.renderOutput(dataTable, element);\n",
              "          const docLink = document.createElement('div');\n",
              "          docLink.innerHTML = docLinkHtml;\n",
              "          element.appendChild(docLink);\n",
              "        }\n",
              "      </script>\n",
              "    </div>\n",
              "  </div>\n",
              "  "
            ]
          },
          "metadata": {},
          "execution_count": 5
        }
      ]
    },
    {
      "cell_type": "code",
      "source": [
        "df['Time'] = pd.to_datetime(df['Time']).dt.hour"
      ],
      "metadata": {
        "id": "reLDmvypeDZt"
      },
      "execution_count": 11,
      "outputs": []
    },
    {
      "cell_type": "code",
      "source": [
        "df['TimeSunRise'] = pd.to_datetime(df['TimeSunRise']).dt.minute"
      ],
      "metadata": {
        "id": "7uQrdRDMj3fG"
      },
      "execution_count": 20,
      "outputs": []
    },
    {
      "cell_type": "code",
      "source": [
        "df['TimeSunSet'] = pd.to_datetime(df['TimeSunSet']).dt.minute"
      ],
      "metadata": {
        "id": "xdgRlj_kj7rV"
      },
      "execution_count": 21,
      "outputs": []
    },
    {
      "cell_type": "code",
      "source": [
        "df = df.drop(['Data'], axis=1)"
      ],
      "metadata": {
        "id": "qvvPaA44jSlf"
      },
      "execution_count": 27,
      "outputs": []
    },
    {
      "cell_type": "code",
      "source": [
        "df.describe()"
      ],
      "metadata": {
        "colab": {
          "base_uri": "https://localhost:8080/",
          "height": 364
        },
        "id": "x82NZrT-kIe4",
        "outputId": "e290b55e-a483-4bfd-fa25-5a9a57ba078e"
      },
      "execution_count": 28,
      "outputs": [
        {
          "output_type": "execute_result",
          "data": {
            "text/plain": [
              "           UNIXTime          Time     Radiation   Temperature      Pressure  \\\n",
              "count  3.268600e+04  32686.000000  32686.000000  32686.000000  32686.000000   \n",
              "mean   1.478047e+09     11.557425    207.124697     51.103255     30.422879   \n",
              "std    3.005037e+06      6.912034    315.916387      6.201157      0.054673   \n",
              "min    1.472724e+09      0.000000      1.110000     34.000000     30.190000   \n",
              "25%    1.475546e+09      6.000000      1.230000     46.000000     30.400000   \n",
              "50%    1.478026e+09     12.000000      2.660000     50.000000     30.430000   \n",
              "75%    1.480480e+09     18.000000    354.235000     55.000000     30.460000   \n",
              "max    1.483265e+09     23.000000   1601.260000     71.000000     30.560000   \n",
              "\n",
              "           Humidity  WindDirection(Degrees)         Speed   TimeSunRise  \\\n",
              "count  32686.000000            32686.000000  32686.000000  32686.000000   \n",
              "mean      75.016307              143.489821      6.243869     27.640519   \n",
              "std       25.990219               83.167500      3.490474     15.518714   \n",
              "min        8.000000                0.090000      0.000000      7.000000   \n",
              "25%       56.000000               82.227500      3.370000     14.000000   \n",
              "50%       85.000000              147.700000      5.620000     24.000000   \n",
              "75%       97.000000              179.310000      7.870000     40.000000   \n",
              "max      103.000000              359.950000     40.500000     57.000000   \n",
              "\n",
              "         TimeSunSet  \n",
              "count  32686.000000  \n",
              "mean      37.317904  \n",
              "std       15.938416  \n",
              "min        0.000000  \n",
              "25%       26.000000  \n",
              "50%       43.000000  \n",
              "75%       48.000000  \n",
              "max       59.000000  "
            ],
            "text/html": [
              "\n",
              "  <div id=\"df-50dec593-71dc-455a-8609-83607e5ca866\">\n",
              "    <div class=\"colab-df-container\">\n",
              "      <div>\n",
              "<style scoped>\n",
              "    .dataframe tbody tr th:only-of-type {\n",
              "        vertical-align: middle;\n",
              "    }\n",
              "\n",
              "    .dataframe tbody tr th {\n",
              "        vertical-align: top;\n",
              "    }\n",
              "\n",
              "    .dataframe thead th {\n",
              "        text-align: right;\n",
              "    }\n",
              "</style>\n",
              "<table border=\"1\" class=\"dataframe\">\n",
              "  <thead>\n",
              "    <tr style=\"text-align: right;\">\n",
              "      <th></th>\n",
              "      <th>UNIXTime</th>\n",
              "      <th>Time</th>\n",
              "      <th>Radiation</th>\n",
              "      <th>Temperature</th>\n",
              "      <th>Pressure</th>\n",
              "      <th>Humidity</th>\n",
              "      <th>WindDirection(Degrees)</th>\n",
              "      <th>Speed</th>\n",
              "      <th>TimeSunRise</th>\n",
              "      <th>TimeSunSet</th>\n",
              "    </tr>\n",
              "  </thead>\n",
              "  <tbody>\n",
              "    <tr>\n",
              "      <th>count</th>\n",
              "      <td>3.268600e+04</td>\n",
              "      <td>32686.000000</td>\n",
              "      <td>32686.000000</td>\n",
              "      <td>32686.000000</td>\n",
              "      <td>32686.000000</td>\n",
              "      <td>32686.000000</td>\n",
              "      <td>32686.000000</td>\n",
              "      <td>32686.000000</td>\n",
              "      <td>32686.000000</td>\n",
              "      <td>32686.000000</td>\n",
              "    </tr>\n",
              "    <tr>\n",
              "      <th>mean</th>\n",
              "      <td>1.478047e+09</td>\n",
              "      <td>11.557425</td>\n",
              "      <td>207.124697</td>\n",
              "      <td>51.103255</td>\n",
              "      <td>30.422879</td>\n",
              "      <td>75.016307</td>\n",
              "      <td>143.489821</td>\n",
              "      <td>6.243869</td>\n",
              "      <td>27.640519</td>\n",
              "      <td>37.317904</td>\n",
              "    </tr>\n",
              "    <tr>\n",
              "      <th>std</th>\n",
              "      <td>3.005037e+06</td>\n",
              "      <td>6.912034</td>\n",
              "      <td>315.916387</td>\n",
              "      <td>6.201157</td>\n",
              "      <td>0.054673</td>\n",
              "      <td>25.990219</td>\n",
              "      <td>83.167500</td>\n",
              "      <td>3.490474</td>\n",
              "      <td>15.518714</td>\n",
              "      <td>15.938416</td>\n",
              "    </tr>\n",
              "    <tr>\n",
              "      <th>min</th>\n",
              "      <td>1.472724e+09</td>\n",
              "      <td>0.000000</td>\n",
              "      <td>1.110000</td>\n",
              "      <td>34.000000</td>\n",
              "      <td>30.190000</td>\n",
              "      <td>8.000000</td>\n",
              "      <td>0.090000</td>\n",
              "      <td>0.000000</td>\n",
              "      <td>7.000000</td>\n",
              "      <td>0.000000</td>\n",
              "    </tr>\n",
              "    <tr>\n",
              "      <th>25%</th>\n",
              "      <td>1.475546e+09</td>\n",
              "      <td>6.000000</td>\n",
              "      <td>1.230000</td>\n",
              "      <td>46.000000</td>\n",
              "      <td>30.400000</td>\n",
              "      <td>56.000000</td>\n",
              "      <td>82.227500</td>\n",
              "      <td>3.370000</td>\n",
              "      <td>14.000000</td>\n",
              "      <td>26.000000</td>\n",
              "    </tr>\n",
              "    <tr>\n",
              "      <th>50%</th>\n",
              "      <td>1.478026e+09</td>\n",
              "      <td>12.000000</td>\n",
              "      <td>2.660000</td>\n",
              "      <td>50.000000</td>\n",
              "      <td>30.430000</td>\n",
              "      <td>85.000000</td>\n",
              "      <td>147.700000</td>\n",
              "      <td>5.620000</td>\n",
              "      <td>24.000000</td>\n",
              "      <td>43.000000</td>\n",
              "    </tr>\n",
              "    <tr>\n",
              "      <th>75%</th>\n",
              "      <td>1.480480e+09</td>\n",
              "      <td>18.000000</td>\n",
              "      <td>354.235000</td>\n",
              "      <td>55.000000</td>\n",
              "      <td>30.460000</td>\n",
              "      <td>97.000000</td>\n",
              "      <td>179.310000</td>\n",
              "      <td>7.870000</td>\n",
              "      <td>40.000000</td>\n",
              "      <td>48.000000</td>\n",
              "    </tr>\n",
              "    <tr>\n",
              "      <th>max</th>\n",
              "      <td>1.483265e+09</td>\n",
              "      <td>23.000000</td>\n",
              "      <td>1601.260000</td>\n",
              "      <td>71.000000</td>\n",
              "      <td>30.560000</td>\n",
              "      <td>103.000000</td>\n",
              "      <td>359.950000</td>\n",
              "      <td>40.500000</td>\n",
              "      <td>57.000000</td>\n",
              "      <td>59.000000</td>\n",
              "    </tr>\n",
              "  </tbody>\n",
              "</table>\n",
              "</div>\n",
              "      <button class=\"colab-df-convert\" onclick=\"convertToInteractive('df-50dec593-71dc-455a-8609-83607e5ca866')\"\n",
              "              title=\"Convert this dataframe to an interactive table.\"\n",
              "              style=\"display:none;\">\n",
              "        \n",
              "  <svg xmlns=\"http://www.w3.org/2000/svg\" height=\"24px\"viewBox=\"0 0 24 24\"\n",
              "       width=\"24px\">\n",
              "    <path d=\"M0 0h24v24H0V0z\" fill=\"none\"/>\n",
              "    <path d=\"M18.56 5.44l.94 2.06.94-2.06 2.06-.94-2.06-.94-.94-2.06-.94 2.06-2.06.94zm-11 1L8.5 8.5l.94-2.06 2.06-.94-2.06-.94L8.5 2.5l-.94 2.06-2.06.94zm10 10l.94 2.06.94-2.06 2.06-.94-2.06-.94-.94-2.06-.94 2.06-2.06.94z\"/><path d=\"M17.41 7.96l-1.37-1.37c-.4-.4-.92-.59-1.43-.59-.52 0-1.04.2-1.43.59L10.3 9.45l-7.72 7.72c-.78.78-.78 2.05 0 2.83L4 21.41c.39.39.9.59 1.41.59.51 0 1.02-.2 1.41-.59l7.78-7.78 2.81-2.81c.8-.78.8-2.07 0-2.86zM5.41 20L4 18.59l7.72-7.72 1.47 1.35L5.41 20z\"/>\n",
              "  </svg>\n",
              "      </button>\n",
              "      \n",
              "  <style>\n",
              "    .colab-df-container {\n",
              "      display:flex;\n",
              "      flex-wrap:wrap;\n",
              "      gap: 12px;\n",
              "    }\n",
              "\n",
              "    .colab-df-convert {\n",
              "      background-color: #E8F0FE;\n",
              "      border: none;\n",
              "      border-radius: 50%;\n",
              "      cursor: pointer;\n",
              "      display: none;\n",
              "      fill: #1967D2;\n",
              "      height: 32px;\n",
              "      padding: 0 0 0 0;\n",
              "      width: 32px;\n",
              "    }\n",
              "\n",
              "    .colab-df-convert:hover {\n",
              "      background-color: #E2EBFA;\n",
              "      box-shadow: 0px 1px 2px rgba(60, 64, 67, 0.3), 0px 1px 3px 1px rgba(60, 64, 67, 0.15);\n",
              "      fill: #174EA6;\n",
              "    }\n",
              "\n",
              "    [theme=dark] .colab-df-convert {\n",
              "      background-color: #3B4455;\n",
              "      fill: #D2E3FC;\n",
              "    }\n",
              "\n",
              "    [theme=dark] .colab-df-convert:hover {\n",
              "      background-color: #434B5C;\n",
              "      box-shadow: 0px 1px 3px 1px rgba(0, 0, 0, 0.15);\n",
              "      filter: drop-shadow(0px 1px 2px rgba(0, 0, 0, 0.3));\n",
              "      fill: #FFFFFF;\n",
              "    }\n",
              "  </style>\n",
              "\n",
              "      <script>\n",
              "        const buttonEl =\n",
              "          document.querySelector('#df-50dec593-71dc-455a-8609-83607e5ca866 button.colab-df-convert');\n",
              "        buttonEl.style.display =\n",
              "          google.colab.kernel.accessAllowed ? 'block' : 'none';\n",
              "\n",
              "        async function convertToInteractive(key) {\n",
              "          const element = document.querySelector('#df-50dec593-71dc-455a-8609-83607e5ca866');\n",
              "          const dataTable =\n",
              "            await google.colab.kernel.invokeFunction('convertToInteractive',\n",
              "                                                     [key], {});\n",
              "          if (!dataTable) return;\n",
              "\n",
              "          const docLinkHtml = 'Like what you see? Visit the ' +\n",
              "            '<a target=\"_blank\" href=https://colab.research.google.com/notebooks/data_table.ipynb>data table notebook</a>'\n",
              "            + ' to learn more about interactive tables.';\n",
              "          element.innerHTML = '';\n",
              "          dataTable['output_type'] = 'display_data';\n",
              "          await google.colab.output.renderOutput(dataTable, element);\n",
              "          const docLink = document.createElement('div');\n",
              "          docLink.innerHTML = docLinkHtml;\n",
              "          element.appendChild(docLink);\n",
              "        }\n",
              "      </script>\n",
              "    </div>\n",
              "  </div>\n",
              "  "
            ]
          },
          "metadata": {},
          "execution_count": 28
        }
      ]
    },
    {
      "cell_type": "code",
      "source": [
        "sns.heatmap(df.corr(), annot=True)"
      ],
      "metadata": {
        "colab": {
          "base_uri": "https://localhost:8080/",
          "height": 397
        },
        "id": "MpicOUSvb9n_",
        "outputId": "0a955931-d70b-40a4-99c6-b9c5f645feaa"
      },
      "execution_count": 29,
      "outputs": [
        {
          "output_type": "execute_result",
          "data": {
            "text/plain": [
              "<matplotlib.axes._subplots.AxesSubplot at 0x7f6e97a2d2d0>"
            ]
          },
          "metadata": {},
          "execution_count": 29
        },
        {
          "output_type": "display_data",
          "data": {
            "text/plain": [
              "<Figure size 432x288 with 2 Axes>"
            ],
            "image/png": "[encoded data removed]"
          },
          "metadata": {
            "needs_background": "light"
          }
        }
      ]
    },
    {
      "cell_type": "code",
      "source": [
        "y = df['Radiation']\n",
        "x = df.drop(['Radiation'], axis=1)"
      ],
      "metadata": {
        "id": "687wUvT0dH90"
      },
      "execution_count": 30,
      "outputs": []
    },
    {
      "cell_type": "code",
      "source": [
        "x.info"
      ],
      "metadata": {
        "colab": {
          "base_uri": "https://localhost:8080/"
        },
        "id": "uKLeWNHMjjmd",
        "outputId": "5e2ae793-d916-4525-d270-b0f46cc65b61"
      },
      "execution_count": 31,
      "outputs": [
        {
          "output_type": "execute_result",
          "data": {
            "text/plain": [
              "<bound method DataFrame.info of          UNIXTime  Time  Temperature  Pressure  Humidity  \\\n",
              "0      1475229326    23           48     30.46        59   \n",
              "1      1475229023    23           48     30.46        58   \n",
              "2      1475228726    23           48     30.46        57   \n",
              "3      1475228421    23           48     30.46        60   \n",
              "4      1475228124    23           48     30.46        62   \n",
              "...           ...   ...          ...       ...       ...   \n",
              "32681  1480587604     0           44     30.43       102   \n",
              "32682  1480587301     0           44     30.42       102   \n",
              "32683  1480587001     0           44     30.42       102   \n",
              "32684  1480586702     0           44     30.42       101   \n",
              "32685  1480586402     0           44     30.43       101   \n",
              "\n",
              "       WindDirection(Degrees)  Speed  TimeSunRise  TimeSunSet  \n",
              "0                      177.39   5.62           13          13  \n",
              "1                      176.78   3.37           13          13  \n",
              "2                      158.75   3.37           13          13  \n",
              "3                      137.71   3.37           13          13  \n",
              "4                      104.95   5.62           13          13  \n",
              "...                       ...    ...          ...         ...  \n",
              "32681                  145.42   6.75           41          42  \n",
              "32682                  117.78   6.75           41          42  \n",
              "32683                  145.19   9.00           41          42  \n",
              "32684                  164.19   7.87           41          42  \n",
              "32685                   83.59   3.37           41          42  \n",
              "\n",
              "[32686 rows x 9 columns]>"
            ]
          },
          "metadata": {},
          "execution_count": 31
        }
      ]
    },
    {
      "cell_type": "code",
      "source": [
        "x.info()"
      ],
      "metadata": {
        "colab": {
          "base_uri": "https://localhost:8080/"
        },
        "id": "kGj6gqkKjmia",
        "outputId": "ec782b65-866a-475f-f85e-2919949937c6"
      },
      "execution_count": 33,
      "outputs": [
        {
          "output_type": "stream",
          "name": "stdout",
          "text": [
            "<class 'pandas.core.frame.DataFrame'>\n",
            "RangeIndex: 32686 entries, 0 to 32685\n",
            "Data columns (total 9 columns):\n",
            " #   Column                  Non-Null Count  Dtype  \n",
            "---  ------                  --------------  -----  \n",
            " 0   UNIXTime                32686 non-null  int64  \n",
            " 1   Time                    32686 non-null  int64  \n",
            " 2   Temperature             32686 non-null  int64  \n",
            " 3   Pressure                32686 non-null  float64\n",
            " 4   Humidity                32686 non-null  int64  \n",
            " 5   WindDirection(Degrees)  32686 non-null  float64\n",
            " 6   Speed                   32686 non-null  float64\n",
            " 7   TimeSunRise             32686 non-null  int64  \n",
            " 8   TimeSunSet              32686 non-null  int64  \n",
            "dtypes: float64(3), int64(6)\n",
            "memory usage: 2.2 MB\n"
          ]
        }
      ]
    },
    {
      "cell_type": "code",
      "source": [
        "x.isnull().sum()"
      ],
      "metadata": {
        "colab": {
          "base_uri": "https://localhost:8080/"
        },
        "id": "Hm9IfIVikoGX",
        "outputId": "320ff35d-5367-4d14-e2b6-6b3f388c4c36"
      },
      "execution_count": 37,
      "outputs": [
        {
          "output_type": "execute_result",
          "data": {
            "text/plain": [
              "UNIXTime                  0\n",
              "Time                      0\n",
              "Temperature               0\n",
              "Pressure                  0\n",
              "Humidity                  0\n",
              "WindDirection(Degrees)    0\n",
              "Speed                     0\n",
              "TimeSunRise               0\n",
              "TimeSunSet                0\n",
              "dtype: int64"
            ]
          },
          "metadata": {},
          "execution_count": 37
        }
      ]
    },
    {
      "cell_type": "markdown",
      "source": [
        "## Dados pré-processados. Agora, separar os dados entre treino e teste, treinar e aplicar o modelo de regressão."
      ],
      "metadata": {
        "id": "kJoqeZQwkxUq"
      }
    },
    {
      "cell_type": "code",
      "source": [
        "x_train, x_test, y_train, y_test = train_test_split(x,y, test_size=(0.3))"
      ],
      "metadata": {
        "id": "5CIuTQgkktfX"
      },
      "execution_count": 40,
      "outputs": []
    },
    {
      "cell_type": "code",
      "source": [
        "modelo = DecisionTreeRegressor()"
      ],
      "metadata": {
        "id": "5J8SjQuplKY-"
      },
      "execution_count": 45,
      "outputs": []
    },
    {
      "cell_type": "code",
      "source": [
        "modelo = modelo.fit(x_train, y_train)"
      ],
      "metadata": {
        "id": "1Sz6vfW-lVgC"
      },
      "execution_count": 46,
      "outputs": []
    },
    {
      "cell_type": "code",
      "source": [
        "accuracy = modelo.score(x_test, y_test)"
      ],
      "metadata": {
        "id": "7Od27uYolgIE"
      },
      "execution_count": 47,
      "outputs": []
    },
    {
      "cell_type": "code",
      "source": [
        "print(accuracy)"
      ],
      "metadata": {
        "colab": {
          "base_uri": "https://localhost:8080/"
        },
        "id": "XW20vxF-lkUU",
        "outputId": "09791e81-a446-4a39-ddd2-da4a5f70de5d"
      },
      "execution_count": 48,
      "outputs": [
        {
          "output_type": "stream",
          "name": "stdout",
          "text": [
            "0.8839004639871805\n"
          ]
        }
      ]
    }
  ]
}